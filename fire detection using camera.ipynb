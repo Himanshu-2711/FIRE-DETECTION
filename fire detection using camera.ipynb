{
 "cells": [
  {
   "cell_type": "code",
   "execution_count": 1,
   "id": "b9d96175",
   "metadata": {},
   "outputs": [
    {
     "name": "stderr",
     "output_type": "stream",
     "text": [
      "\n",
      "    Error 275 for command:\n",
      "        open alarm-sound.mp3\n",
      "    Cannot find the specified file.  Make sure the path and filename are correct.\n",
      "\n",
      "    Error 263 for command:\n",
      "        close alarm-sound.mp3\n",
      "    The specified device is not open or is not recognized by MCI.\n",
      "Failed to close the file: alarm-sound.mp3\n",
      "Exception in thread Thread-5:\n",
      "Traceback (most recent call last):\n",
      "  File \"C:\\ProgramData\\Anaconda3\\lib\\threading.py\", line 980, in _bootstrap_inner\n",
      "    self.run()\n",
      "  File \"C:\\ProgramData\\Anaconda3\\lib\\threading.py\", line 917, in run\n",
      "    self._target(*self._args, **self._kwargs)\n",
      "  File \"C:\\Users\\saini\\AppData\\Local\\Temp\\ipykernel_7688\\2613684017.py\", line 13, in play_alarm_sound_function\n",
      "  File \"C:\\Users\\saini\\AppData\\Roaming\\Python\\Python39\\site-packages\\playsound.py\", line 72, in _playsoundWin\n",
      "    winCommand(u'open {}'.format(sound))\n",
      "  File \"C:\\Users\\saini\\AppData\\Roaming\\Python\\Python39\\site-packages\\playsound.py\", line 64, in winCommand\n",
      "    raise PlaysoundException(exceptionMessage)\n",
      "playsound.PlaysoundException: \n",
      "    Error 275 for command:\n",
      "        open alarm-sound.mp3\n",
      "    Cannot find the specified file.  Make sure the path and filename are correct.\n"
     ]
    },
    {
     "name": "stdout",
     "output_type": "stream",
     "text": [
      "(535, b'5.7.8 Username and Password not accepted. Learn more at\\n5.7.8  https://support.google.com/mail/?p=BadCredentials a19-20020a62e213000000b006875be4163csm990835pfi.17 - gsmtp')\n"
     ]
    },
    {
     "ename": "KeyboardInterrupt",
     "evalue": "",
     "output_type": "error",
     "traceback": [
      "\u001b[1;31m---------------------------------------------------------------------------\u001b[0m",
      "\u001b[1;31mKeyboardInterrupt\u001b[0m                         Traceback (most recent call last)",
      "\u001b[1;32m~\\AppData\\Local\\Temp\\ipykernel_7688\\2613684017.py\u001b[0m in \u001b[0;36m<module>\u001b[1;34m\u001b[0m\n\u001b[0;32m     33\u001b[0m \u001b[1;33m\u001b[0m\u001b[0m\n\u001b[0;32m     34\u001b[0m \u001b[1;32mwhile\u001b[0m \u001b[1;32mTrue\u001b[0m\u001b[1;33m:\u001b[0m\u001b[1;33m\u001b[0m\u001b[1;33m\u001b[0m\u001b[0m\n\u001b[1;32m---> 35\u001b[1;33m     \u001b[1;33m(\u001b[0m\u001b[0mgrabbed\u001b[0m\u001b[1;33m,\u001b[0m \u001b[0mframe\u001b[0m\u001b[1;33m)\u001b[0m \u001b[1;33m=\u001b[0m \u001b[0mvideo\u001b[0m\u001b[1;33m.\u001b[0m\u001b[0mread\u001b[0m\u001b[1;33m(\u001b[0m\u001b[1;33m)\u001b[0m\u001b[1;33m\u001b[0m\u001b[1;33m\u001b[0m\u001b[0m\n\u001b[0m\u001b[0;32m     36\u001b[0m     \u001b[1;32mif\u001b[0m \u001b[1;32mnot\u001b[0m \u001b[0mgrabbed\u001b[0m\u001b[1;33m:\u001b[0m\u001b[1;33m\u001b[0m\u001b[1;33m\u001b[0m\u001b[0m\n\u001b[0;32m     37\u001b[0m         \u001b[1;32mbreak\u001b[0m\u001b[1;33m\u001b[0m\u001b[1;33m\u001b[0m\u001b[0m\n",
      "\u001b[1;31mKeyboardInterrupt\u001b[0m: "
     ]
    }
   ],
   "source": [
    "\n",
    "import cv2\n",
    "import numpy as np\n",
    "import smtplib\n",
    "import playsound\n",
    "import threading\n",
    "\n",
    "Alarm_Status = False\n",
    "Email_Status = False\n",
    "Fire_Reported = 0\n",
    "\n",
    "def play_alarm_sound_function():\n",
    "\twhile True:\n",
    "\t\tplaysound.playsound('alarm-sound.mp3',True)\n",
    "\n",
    "def send_mail_function():\n",
    "\n",
    "    recipientEmail = \"saini.himanshu2527@gmail.com\"\n",
    "    recipientEmail = recipientEmail.lower()\n",
    "\n",
    "    try:\n",
    "        server = smtplib.SMTP('smtp.gmail.com', 587)\n",
    "        server.ehlo()\n",
    "        server.starttls()\n",
    "        server.login(\"vsaini870072@gmail.com)\", \"vishu12345\")\n",
    "        server.sendmail('vsaini870072@gmail.com', recipientEmail, \"Warning A Fire Accident has been reported\")\n",
    "        print(\"sent to {}\".format(recipientEmail))\n",
    "        server.close()\n",
    "    except Exception as e:\n",
    "    \tprint(e)\n",
    "\n",
    "\n",
    "video = cv2.VideoCapture(0) # If you want to use webcam use Index like 0,1.\n",
    "\n",
    "while True:\n",
    "    (grabbed, frame) = video.read()\n",
    "    if not grabbed:\n",
    "        break\n",
    "\n",
    "    frame = cv2.resize(frame, (960, 540))\n",
    "\n",
    "    blur = cv2.GaussianBlur(frame, (21, 21), 0)\n",
    "    hsv = cv2.cvtColor(blur, cv2.COLOR_BGR2HSV)\n",
    "\n",
    "    lower = [18, 50, 50]\n",
    "    upper = [35, 255, 255]\n",
    "    lower = np.array(lower, dtype=\"uint8\")\n",
    "    upper = np.array(upper, dtype=\"uint8\")\n",
    "\n",
    "    mask = cv2.inRange(hsv, lower, upper)\n",
    "\n",
    "    output = cv2.bitwise_and(frame, hsv, mask=mask)\n",
    "\n",
    "    no_red = cv2.countNonZero(mask)\n",
    "\n",
    "    if int(no_red) > 15000:\n",
    "        Fire_Reported = Fire_Reported + 1\n",
    "\n",
    "    cv2.imshow(\"output\", output)\n",
    "\n",
    "    if Fire_Reported >= 1:\n",
    "\n",
    "    \tif Alarm_Status == False:\n",
    "    \t\tthreading.Thread(target=play_alarm_sound_function).start()\n",
    "    \t\tAlarm_Status = True\n",
    "\n",
    "    \tif Email_Status == False:\n",
    "    \t\tthreading.Thread(target=send_mail_function).start()\n",
    "    \t\tEmail_Status = True\n",
    "\n",
    "\n",
    "    if cv2.waitKey(1) & 0xFF == ord('q'):\n",
    "        break\n",
    "\n",
    "cv2.destroyAllWindows()\n",
    "video.release()\n"
   ]
  },
  {
   "cell_type": "code",
   "execution_count": 3,
   "id": "41526de6",
   "metadata": {},
   "outputs": [
    {
     "name": "stdout",
     "output_type": "stream",
     "text": [
      "Defaulting to user installation because normal site-packages is not writeable\n",
      "Collecting playsound\n",
      "  Downloading playsound-1.3.0.tar.gz (7.7 kB)\n",
      "  Preparing metadata (setup.py): started\n",
      "  Preparing metadata (setup.py): finished with status 'done'\n",
      "Building wheels for collected packages: playsound\n",
      "  Building wheel for playsound (setup.py): started\n",
      "  Building wheel for playsound (setup.py): finished with status 'done'\n",
      "  Created wheel for playsound: filename=playsound-1.3.0-py3-none-any.whl size=7020 sha256=54199adebed4562d662bc20284802912ec1887ed8732d6b39dae3db4f51fb336\n",
      "  Stored in directory: c:\\users\\saini\\appdata\\local\\pip\\cache\\wheels\\ba\\39\\54\\c8f7ff9a88a644d3c58b4dec802d90b79a2e0fb2a6b884bf82\n",
      "Successfully built playsound\n",
      "Installing collected packages: playsound\n",
      "Successfully installed playsound-1.3.0\n",
      "Note: you may need to restart the kernel to use updated packages.\n"
     ]
    }
   ],
   "source": [
    "pip install playsound"
   ]
  },
  {
   "cell_type": "code",
   "execution_count": null,
   "id": "161858bb",
   "metadata": {},
   "outputs": [],
   "source": []
  }
 ],
 "metadata": {
  "kernelspec": {
   "display_name": "Python 3 (ipykernel)",
   "language": "python",
   "name": "python3"
  },
  "language_info": {
   "codemirror_mode": {
    "name": "ipython",
    "version": 3
   },
   "file_extension": ".py",
   "mimetype": "text/x-python",
   "name": "python",
   "nbconvert_exporter": "python",
   "pygments_lexer": "ipython3",
   "version": "3.9.13"
  }
 },
 "nbformat": 4,
 "nbformat_minor": 5
}
